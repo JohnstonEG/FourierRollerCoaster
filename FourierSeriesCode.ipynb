{
 "cells": [
  {
   "cell_type": "code",
   "execution_count": null,
   "metadata": {},
   "outputs": [
    {
     "name": "stdout",
     "output_type": "stream",
     "text": [
      "x(t) = 3.7647 + (-4.4369)cos(1x) + (-1.3887)sin(1x) + (0.8695)cos(2x) + (-0.7532)sin(2x) + (0.2390)cos(3x) + (0.1986)sin(3x) + (-0.5383)cos(4x) + (-0.4610)sin(4x) + (-0.5872)cos(5x) + (1.0807)sin(5x) + (0.5495)cos(6x) + (0.2801)sin(6x) + (-0.1433)cos(7x) + (0.0273)sin(7x) + (0.2830)cos(8x) + (0.0703)sin(8x)\n",
      "y(t) = 4.2353 + (-1.5477)cos(1x) + (0.9490)sin(1x) + (-3.5180)cos(2x) + (1.3734)sin(2x) + (0.5939)cos(3x) + (1.0492)sin(3x) + (0.4932)cos(4x) + (-0.4290)sin(4x) + (0.2546)cos(5x) + (0.0871)sin(5x) + (0.0306)cos(6x) + (-0.5426)sin(6x) + (0.3988)cos(7x) + (-0.6317)sin(7x) + (-0.9407)cos(8x) + (-0.5350)sin(8x)\n",
      "z(t) = 2.5294 + (-1.5397)cos(1x) + (1.0337)sin(1x) + (-2.0952)cos(2x) + (-0.3252)sin(2x) + (0.8603)cos(3x) + (-0.3349)sin(3x) + (0.5317)cos(4x) + (-0.5682)sin(4x) + (-0.3314)cos(5x) + (0.5893)sin(5x) + (-0.3722)cos(6x) + (0.1711)sin(6x) + (0.8827)cos(7x) + (-0.0756)sin(7x) + (-0.4656)cos(8x) + (0.2594)sin(8x)\n"
     ]
    }
   ],
   "source": [
    "import numpy as np \n",
    "import pandas as pd \n",
    "\n",
    "# Example document attached \n",
    "# Can alter path by selecting another csv document\n",
    "df = pd.read_csv(\"/workspaces/FourierRollerCoaster/rc.csv\")\n",
    "t = df['t']\n",
    "x = df['x']\n",
    "y = df['y']\n",
    "z = df['z']\n",
    "\n",
    "# Normalizing for estimation purposes (fourier series is periodic)\n",
    "# Normalized relative to 2pi\n",
    "T = t.max() - t.min()\n",
    "omega = 2 * np.pi / T\n",
    "t_scaled = (t - t.min()) * omega\n",
    "\n",
    "# Fourier series estimation \n",
    "def fourier_series(t, f, num_terms=10):\n",
    "    N = len(f)\n",
    "    fft_coeffs = np.fft.rfft(f, n=N)  # Compute FFT, faster computation\n",
    "    frequencies = np.fft.rfftfreq(N, d=(t[1] - t[0])) * omega\n",
    "    \n",
    "    # Get real (a_n) and imaginary (b_n) parts\n",
    "    a0 = np.real(fft_coeffs[0]) / N  # DC component\n",
    "    an = 2 * np.real(fft_coeffs[1:num_terms+1]) / N\n",
    "    bn = -2 * np.imag(fft_coeffs[1:num_terms+1]) / N  # Negate imaginary part\n",
    "    \n",
    "    return a0, an, bn, frequencies[1:num_terms+1]\n",
    "\n",
    "# Compute Fourier series for each coordinate\n",
    "a0_x, an_x, bn_x, freq_x = fourier_series(t_scaled, x)\n",
    "a0_y, an_y, bn_y, freq_y = fourier_series(t_scaled, y)\n",
    "a0_z, an_z, bn_z, freq_z = fourier_series(t_scaled, z)\n",
    "\n",
    "# Format output for Desmos 3D (parametric equations)\n",
    "def generate_fourier_function(a0, an, bn, freqs):\n",
    "    \"\"\"Creates a string representation of the Fourier series.\"\"\"\n",
    "    terms = [f\"{a0:.4f}\"]\n",
    "    # The i index should be fine given I normalized the time domain earlier to the period 2pi\n",
    "    for i, (a, b, f) in enumerate(zip(an, bn, freqs), start=1):\n",
    "        terms.append(f\"({a:.4f})cos({i}x)\")\n",
    "        terms.append(f\"({b:.4f})sin({i}x)\")\n",
    "    return \" + \".join(terms)\n",
    "\n",
    "# Desmos3d-friendly parametric equations/using x for input\n",
    "desmos_x = generate_fourier_function(a0_x, an_x, bn_x, freq_x)\n",
    "desmos_y = generate_fourier_function(a0_y, an_y, bn_y, freq_y)\n",
    "desmos_z = generate_fourier_function(a0_z, an_z, bn_z, freq_z)\n",
    "\n",
    "# The t range should be from 0 to 2pi now irregardless of prior t. \n",
    "# Could convert back to prior t (maybe call it time if that is desired) \n",
    "print(f\"x(t) = {desmos_x}\")\n",
    "print(f\"y(t) = {desmos_y}\")\n",
    "print(f\"z(t) = {desmos_z}\") "
   ]
  }
 ],
 "metadata": {
  "kernelspec": {
   "display_name": "Python 3",
   "language": "python",
   "name": "python3"
  },
  "language_info": {
   "codemirror_mode": {
    "name": "ipython",
    "version": 3
   },
   "file_extension": ".py",
   "mimetype": "text/x-python",
   "name": "python",
   "nbconvert_exporter": "python",
   "pygments_lexer": "ipython3",
   "version": "3.12.1"
  }
 },
 "nbformat": 4,
 "nbformat_minor": 2
}
